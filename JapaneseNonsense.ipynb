{
  "nbformat": 4,
  "nbformat_minor": 0,
  "metadata": {
    "colab": {
      "name": "JapaneseNonsense.ipynb",
      "provenance": [],
      "collapsed_sections": [],
      "authorship_tag": "ABX9TyPORlhBcxijR7Ftdc1kznz+",
      "include_colab_link": true
    },
    "kernelspec": {
      "name": "python3",
      "display_name": "Python 3"
    },
    "accelerator": "GPU"
  },
  "cells": [
    {
      "cell_type": "markdown",
      "metadata": {
        "id": "view-in-github",
        "colab_type": "text"
      },
      "source": [
        "<a href=\"https://colab.research.google.com/github/bmd1307/GalaxyPairProject/blob/master/JapaneseNonsense.ipynb\" target=\"_parent\"><img src=\"https://colab.research.google.com/assets/colab-badge.svg\" alt=\"Open In Colab\"/></a>"
      ]
    },
    {
      "cell_type": "markdown",
      "metadata": {
        "id": "8KdPD7KlYKxF",
        "colab_type": "text"
      },
      "source": [
        "# RNN for Japanese Phonology with Phoneme Embeddings\n",
        "\n",
        "This notebook contains the code which trains an RNN on the Corpus of Spontaneous Japanese to learn phonological patterns in Japanese. The RNN is trained using Keras. Additionally, the embeddings produced in this model are analyzed using principal component analysis, to determine what phonetic or articulatory features are picked up by the neural network.\n",
        "\n",
        "**Before running anything:**\n",
        "\n",
        "Make sure to set this notebook to run on a GPU. This drastically reduces the time needed to train the network. To do this, go to Edit-->Notebook Settings, and under Hardware Accelerator, select GPU.\n",
        "\n",
        "This project is largely based off of the work of Mirea and Bicknell (2019):\n",
        "\n",
        "https://www.aclweb.org/anthology/P19-1155/"
      ]
    },
    {
      "cell_type": "markdown",
      "metadata": {
        "id": "P3FYwFMCY4pj",
        "colab_type": "text"
      },
      "source": [
        "## 1. Install the necessary dependencies\n",
        "\n",
        "The RNN is implemented in Keras, and some functions are used from sklearn to perform PCA, and split the corpus in to train, valid and test data."
      ]
    },
    {
      "cell_type": "code",
      "metadata": {
        "id": "jjJV1wnRXHyG",
        "colab_type": "code",
        "outputId": "b4c02460-1f4c-4127-f8dc-9ddcff09e975",
        "colab": {
          "base_uri": "https://localhost:8080/",
          "height": 80
        }
      },
      "source": [
        "# the required dependencies\n",
        "\n",
        "from nltk import FreqDist\n",
        "\n",
        "from keras.models import Sequential, load_model\n",
        "from keras.layers import Embedding, LSTM, Dense\n",
        "from keras.callbacks import EarlyStopping, ModelCheckpoint\n",
        "from keras.utils import to_categorical\n",
        "\n",
        "from sklearn.model_selection import train_test_split\n",
        "from sklearn.decomposition import PCA\n",
        "\n",
        "import os\n",
        "import re\n",
        "import numpy as np\n",
        "\n",
        "import matplotlib.pyplot as plt\n"
      ],
      "execution_count": 0,
      "outputs": [
        {
          "output_type": "stream",
          "text": [
            "Using TensorFlow backend.\n"
          ],
          "name": "stderr"
        },
        {
          "output_type": "display_data",
          "data": {
            "text/html": [
              "<p style=\"color: red;\">\n",
              "The default version of TensorFlow in Colab will soon switch to TensorFlow 2.x.<br>\n",
              "We recommend you <a href=\"https://www.tensorflow.org/guide/migrate\" target=\"_blank\">upgrade</a> now \n",
              "or ensure your notebook will continue to use TensorFlow 1.x via the <code>%tensorflow_version 1.x</code> magic:\n",
              "<a href=\"https://colab.research.google.com/notebooks/tensorflow_version.ipynb\" target=\"_blank\">more info</a>.</p>\n"
            ],
            "text/plain": [
              "<IPython.core.display.HTML object>"
            ]
          },
          "metadata": {
            "tags": []
          }
        }
      ]
    },
    {
      "cell_type": "markdown",
      "metadata": {
        "id": "xsHkRNAnZGfz",
        "colab_type": "text"
      },
      "source": [
        "## 2. Connect this notebook to Google Drive to read in the CSJ corpus\n",
        "\n",
        "This code needs to be executed each time the notebook is restarted.\n",
        "\n",
        "Running this cell will print a URL. Go to this URL and log into your account. Afterwards, you will be given a code. Enter this code into the textbox below, and your drive will be accessible by this notebook.\n",
        "\n",
        "If your drive is mounted successfully, you should see \"Mounted at /content/drive\" below."
      ]
    },
    {
      "cell_type": "code",
      "metadata": {
        "id": "Mm5QnP1fXvXF",
        "colab_type": "code",
        "outputId": "6fa3302e-bfc5-4f72-eadc-5a2aaa786482",
        "colab": {
          "base_uri": "https://localhost:8080/",
          "height": 122
        }
      },
      "source": [
        "# this code allows this notebook to access the google drive folder to read in the corpus\n",
        "# run this cell, and go to the link which is printed.\n",
        "# the link will tell you to sign in, and at the end will give you a code\n",
        "# copy this code and past it in the textbox that appears below.\n",
        "# this process needs to be repeated each time this notebook is restarted\n",
        "\n",
        "from google.colab import drive\n",
        "drive.mount('/content/drive')"
      ],
      "execution_count": 0,
      "outputs": [
        {
          "output_type": "stream",
          "text": [
            "Go to this URL in a browser: https://accounts.google.com/o/oauth2/auth?client_id=947318989803-6bn6qk8qdgf4n4g3pfee6491hc0brc4i.apps.googleusercontent.com&redirect_uri=urn%3aietf%3awg%3aoauth%3a2.0%3aoob&response_type=code&scope=email%20https%3a%2f%2fwww.googleapis.com%2fauth%2fdocs.test%20https%3a%2f%2fwww.googleapis.com%2fauth%2fdrive%20https%3a%2f%2fwww.googleapis.com%2fauth%2fdrive.photos.readonly%20https%3a%2f%2fwww.googleapis.com%2fauth%2fpeopleapi.readonly\n",
            "\n",
            "Enter your authorization code:\n",
            "··········\n",
            "Mounted at /content/drive\n"
          ],
          "name": "stdout"
        }
      ]
    },
    {
      "cell_type": "markdown",
      "metadata": {
        "id": "96OlnnJ3ZsAh",
        "colab_type": "text"
      },
      "source": [
        "The files  'csj_proc_0.csv', 'csj_proc_1.csv', 'csj_proc_2.csv', 'csj_proc_3.csv' should be listed when this code is executed.\n",
        "\n",
        "If not, change the variable 'folder' to match the location of this notebook, and make sure the CSJ files are in the same directory."
      ]
    },
    {
      "cell_type": "code",
      "metadata": {
        "id": "-SH64CbsZaEj",
        "colab_type": "code",
        "outputId": "5720424d-3769-4be4-b83b-bd02382ca409",
        "colab": {
          "base_uri": "https://localhost:8080/",
          "height": 54
        }
      },
      "source": [
        "folder = '/content/drive/My Drive/Colab Notebooks/'\n",
        "\n",
        "print(os.listdir(folder))"
      ],
      "execution_count": 0,
      "outputs": [
        {
          "output_type": "stream",
          "text": [
            "['bin.ipynb', 'bigrams2.txt', 'LaneCode.ipynb', 'BigramModel.ipynb', 'LaneBigram.ipynb', 'RNNMaybe?.ipynb', 'KerasTutorial.ipynb', 'csj_proc_0.csv', 'csj_proc_1.csv', 'csj_proc_2.csv', 'csj_proc_3.csv', 'RNNLMTest.ipynb', 'JapaneseRNNExample', 'nonsense_nasals.csv', 'nonsense_geminates.csv', 'JapaneseEmbeddingTest.ipynb', 'JapaneseRNN.hdf5', 'RNNFinal.hdf5', 'JapaneseNonsense.ipynb']\n"
          ],
          "name": "stdout"
        }
      ]
    },
    {
      "cell_type": "markdown",
      "metadata": {
        "id": "uXj1O3G1aJJk",
        "colab_type": "text"
      },
      "source": [
        "## 3. Read clean data from the CSJ corpus\n",
        "\n",
        "The files csj_proc_*.csv contain data extracted from the CSJ. This code extracts the phonetic transcription of the actual pronounced form of each word in the corpus.\n",
        "\n",
        "The phonetic transcriptions were originally represented in Katakana, and was converted to a phonetic code of our own creation using the Latin alphabet. Each latin letter corresponds to one Japanese phoneme. Affricates are represented as two separate consonants, geminates are represented by two consonants, and long vowels are represented by two vowels.\n",
        "\n",
        "Our phonetic transcription is listed in the dictionary below, which converts each Latin letter to the phoneme it represents in IPA.\n",
        "\n",
        "\n",
        "\n",
        "\n"
      ]
    },
    {
      "cell_type": "code",
      "metadata": {
        "id": "NQjo4WeXb87r",
        "colab_type": "code",
        "colab": {}
      },
      "source": [
        "ipas = {\"a\":\t\"a\",\n",
        "  \"e\":\t\"e\",\n",
        "  \"i\":\t\"i\",\n",
        "  \"o\":\t\"o\",\n",
        "  \"u\":\t\"u\",\n",
        "  \"m\":\t\"m\",\n",
        "  \"p\":\t\"p\",\n",
        "  \"b\":\t\"b\",\n",
        "  \"f\":\t\"ɸ\",\n",
        "  \"v\":\t\"v\",\n",
        "  \"n\":\t\"n\",\n",
        "  \"t\":\t\"t\",\n",
        "  \"d\":\t\"d\",\n",
        "  \"s\":\t\"s\",\n",
        "  \"z\":\t\"z\",\n",
        "  \"r\":\t\"ɾ\",\n",
        "  \"M\":\t\"ɲ\",\n",
        "  \"S\":\t\"ɕ\",\n",
        "  \"Z\":\t\"ʑ\",\n",
        "  \"c\":\t\"ç\",\n",
        "  \"y\":\t\"j\",\n",
        "  \"G\":\t\"ŋ\",\n",
        "  \"k\":\t\"k\",\n",
        "  \"g\":\t\"g\",\n",
        "  \"w\":\t\"w\",\n",
        "  \"N\":\t\"ɴ\",\n",
        "  \"h\":\t\"h\"}\n",
        "\n",
        "def phon2ipa(char):\n",
        "  # word is a list of chars\n",
        "\n",
        "  if char in ipas:\n",
        "    return ipas[char]\n",
        "  else:\n",
        "    return char "
      ],
      "execution_count": 0,
      "outputs": []
    },
    {
      "cell_type": "markdown",
      "metadata": {
        "id": "3r-lRG1aZawA",
        "colab_type": "text"
      },
      "source": [
        "Words which included sounds such as laughter or crying were filtered by the corpus. The words which only contain phonetic symbols are selected as our dataset.\n",
        "\n",
        "About 6,000,000 words will be read from the corpus, so it will take about 10 seconds for this code to execute.\n"
      ]
    },
    {
      "cell_type": "code",
      "metadata": {
        "id": "sx2Y9fO2aYAk",
        "colab_type": "code",
        "outputId": "f2ba49f2-956f-4567-d9a7-c32b16e6c6c8",
        "colab": {
          "base_uri": "https://localhost:8080/",
          "height": 68
        }
      },
      "source": [
        "\n",
        "\n",
        "c0 = folder + 'csj_proc_0.csv'\n",
        "c1 = folder + 'csj_proc_1.csv'\n",
        "c2 = folder + 'csj_proc_2.csv'\n",
        "c3 = folder + 'csj_proc_3.csv'\n",
        "\n",
        "words = []\n",
        "\n",
        "for c in [c0, c1, c2, c3]:\n",
        "  with open(c, encoding=\"UTF-8\") as f:\n",
        "    next(f)\n",
        "    for line in f:\n",
        "      vals = line.split(',')\n",
        "\n",
        "      # index six contains the actual pronounced form\n",
        "      word = vals[6]\n",
        "\n",
        "      skip = None\n",
        "\n",
        "      for char in word:\n",
        "        # select words with only phonetic characters (no punctuation, no crying)\n",
        "        if char not in ipas.keys():\n",
        "         skip = True\n",
        "\n",
        "      if skip:\n",
        "        continue\n",
        "\n",
        "      words.append(vals[6])\n",
        "      #break\n",
        "\n",
        "print(\"{} words were read from the CSJ corpus\".format(len(words)))\n",
        "print(\"The first word is \\\"{}\\\"\".format(words[0]))\n",
        "print(\"The last word is \\\"{}\\\"\".format(words[-1]))"
      ],
      "execution_count": 0,
      "outputs": [
        {
          "output_type": "stream",
          "text": [
            "6021608 words were read from the CSJ corpus\n",
            "The first word is \"mazu\"\n",
            "The last word is \"masu\"\n"
          ],
          "name": "stdout"
        }
      ]
    },
    {
      "cell_type": "markdown",
      "metadata": {
        "id": "9zd5_CYNeTNn",
        "colab_type": "text"
      },
      "source": [
        "## 4. Determine the word types\n",
        "\n",
        "Most words in the corpus (or in any language dataset) contain a small number of tokens which account for a majority of the corpus. See the 20 most common words from the corpus below, and see the amount of the corpus they produce.\n",
        "\n",
        "To reduce the size of the corpus, each word type will be used in our dataset, rather than each token. However, it may be the case that using word tokens would be more useful for the RNN. This question will be set aside for later research.\n",
        "\n",
        "Using only word types reduces the size of our dataset to around ~50,000"
      ]
    },
    {
      "cell_type": "code",
      "metadata": {
        "id": "hpC_QBQlckKW",
        "colab_type": "code",
        "outputId": "605632ee-cdd4-49b2-8eb3-19e9bca4bdbe",
        "colab": {
          "base_uri": "https://localhost:8080/",
          "height": 442
        }
      },
      "source": [
        "fd = FreqDist(words)\n",
        "\n",
        "print(\"word\".ljust(10), \"count\")\n",
        "print(\"*\"*30)\n",
        "for word, count in fd.most_common(20):\n",
        "  print(word.ljust(10), str(count).rjust(5))\n",
        "\n",
        "\n",
        "word_set = list(fd.keys())\n",
        "\n",
        "print(\"*\"*30)\n",
        "print()\n",
        "print(\"There are {} types in the corpus\".format(len(word_set)))"
      ],
      "execution_count": 0,
      "outputs": [
        {
          "output_type": "stream",
          "text": [
            "word       count\n",
            "******************************\n",
            "no         305519\n",
            "te         252460\n",
            "ni         234134\n",
            "to         231304\n",
            "de         198862\n",
            "ga         177707\n",
            "wa         163302\n",
            "o          160428\n",
            "ta         136837\n",
            "desu       124803\n",
            "yuu        111911\n",
            "Si         104959\n",
            "mo         95705\n",
            "ka         93301\n",
            "N          91167\n",
            "masu       89451\n",
            "na         75560\n",
            "koto       63118\n",
            "maSi       53067\n",
            "nai        45170\n",
            "******************************\n",
            "\n",
            "There are 50410 types in the corpus\n"
          ],
          "name": "stdout"
        }
      ]
    },
    {
      "cell_type": "markdown",
      "metadata": {
        "id": "tcE-yRmCfIFM",
        "colab_type": "text"
      },
      "source": [
        "## 5. Create Character Encodings\n",
        "\n",
        "Neural networks are mathematical functions, so its inputs must be represented as numbers. The code below assings a unique integer to each character in the dataset. Two special tokens are introduced to indicate the end of a word, and to pad the word to a given length (to be explained later).\n",
        "\n",
        "Two dictionaries are created:\n",
        "- char2id - converts each Latin-based phoneme to its code\n",
        "- id2char - converts each code back to its Latin-based phoneme"
      ]
    },
    {
      "cell_type": "code",
      "metadata": {
        "id": "yH90b_BrdjzU",
        "colab_type": "code",
        "colab": {}
      },
      "source": [
        "\n",
        "char2id = {}\n",
        "id2char = {}\n",
        "\n",
        "char2id[\"PAD\"] = 0\n",
        "char2id[\"END\"] = 1\n",
        "\n",
        "counter = 2\n",
        "for c in ipas.keys():\n",
        "  char2id[c] = counter\n",
        "  counter += 1\n",
        "\n",
        "for c in char2id:\n",
        "  currid = char2id[c]\n",
        "  id2char[currid] = c"
      ],
      "execution_count": 0,
      "outputs": []
    },
    {
      "cell_type": "markdown",
      "metadata": {
        "id": "_4wOyK6-gXWP",
        "colab_type": "text"
      },
      "source": [
        "## 6. Convert Each Word Type to its Character Encoding\n",
        "\n",
        "The code below converts each word type from the corpus into a sequence of character codes, which are stored in a numpy array.\n",
        "\n",
        "Each character code sequence is padded such that all of the word representations are of the same length. The sequences are long enough such that the longest word plus the end token can be represented in the array.\n",
        "\n",
        "The sequences are written into the variable word_grid. The first index of word_grid accesses the word sequence, and the second index accesses each character:\n",
        "  - word_grid[word_ind, char_ind]"
      ]
    },
    {
      "cell_type": "code",
      "metadata": {
        "id": "eDb4gx0bfm41",
        "colab_type": "code",
        "outputId": "0096b4c1-46a9-425c-9238-46a813869fb6",
        "colab": {
          "base_uri": "https://localhost:8080/",
          "height": 408
        }
      },
      "source": [
        "\n",
        "\n",
        "max_len = max(len(w) for w in word_set) + 1\n",
        "\n",
        "word_grid = np.zeros((len(word_set), max_len))\n",
        "\n",
        "for word_i in range(len(word_set)):\n",
        "  curr_word = word_set[word_i]\n",
        "  for char_i in range(len(curr_word)):\n",
        "    curr_char = curr_word[char_i]\n",
        "    word_grid[word_i, char_i] = char2id[curr_char]\n",
        "  \n",
        "  word_grid[word_i, len(curr_word)] = char2id[\"END\"]\n",
        "\n",
        "print('The longest word in the corpus is {} characters long'.format(max_len))\n",
        "\n",
        "example_index = 5\n",
        "\n",
        "print()\n",
        "print(\"*** Example word in the corpus ***\")\n",
        "print()\n",
        "print(word_set[example_index])\n",
        "\n",
        "print()\n",
        "print(\"*** The character codes ***\")\n",
        "print()\n",
        "for c in word_set[example_index]:\n",
        "  print(\" {:3} --> {}\".format(c, char2id[c]))\n",
        "print(\" {:3} --> {}\".format(\"END\", char2id[\"END\"]))\n",
        "print(\" {:3} --> {}\".format(\"PAD\", char2id[\"PAD\"]))\n",
        "\n",
        "print()\n",
        "print(\"*** The final padded array for \\\"{}\\\" ***\".format(word_set[example_index]))\n",
        "print(word_grid[example_index,:])\n",
        "\n",
        "print()\n",
        "print(\"*\" * 30)\n",
        "print(\"The final dimensions of the word array: {}\".format(word_grid.shape))"
      ],
      "execution_count": 0,
      "outputs": [
        {
          "output_type": "stream",
          "text": [
            "The longest word in the corpus is 24 characters long\n",
            "\n",
            "*** Example word in the corpus ***\n",
            "\n",
            "kantaN\n",
            "\n",
            "*** The character codes ***\n",
            "\n",
            " k   --> 24\n",
            " a   --> 2\n",
            " n   --> 12\n",
            " t   --> 13\n",
            " a   --> 2\n",
            " N   --> 27\n",
            " END --> 1\n",
            " PAD --> 0\n",
            "\n",
            "*** The final padded array for \"kantaN\" ***\n",
            "[24.  2. 12. 13.  2. 27.  1.  0.  0.  0.  0.  0.  0.  0.  0.  0.  0.  0.\n",
            "  0.  0.  0.  0.  0.  0.]\n",
            "\n",
            "******************************\n",
            "The final dimensions of the word array: (50410, 24)\n"
          ],
          "name": "stdout"
        }
      ]
    },
    {
      "cell_type": "markdown",
      "metadata": {
        "id": "q-wmlWEfgZNv",
        "colab_type": "text"
      },
      "source": [
        "## 7. Create an object which creates one-hot encodings\n",
        "\n",
        "We chose to represent each character in the neural network with a one-hot vector. A one-hot vector is a vector which contains a single 1, and all of its other values are 0. For our purposes, the index of the 1 in the one-hot vector corresponds to the character code of the phoneme.\n",
        "\n",
        "The one-hot vector can be interpretted as a probability distribution, where each value represents the likelihood of each character. The input to the neural network will represent the probability of each character with 100%, and the output of the neural network will reflect the uncertainty of the network for each character."
      ]
    },
    {
      "cell_type": "code",
      "metadata": {
        "id": "oJiIKsp5l8_W",
        "colab_type": "code",
        "outputId": "7400f6ed-e140-4363-e789-01e0460f6877",
        "colab": {
          "base_uri": "https://localhost:8080/",
          "height": 136
        }
      },
      "source": [
        "print(\"*** Example character:\\n    \\\"{}\\\"\".format('a'))\n",
        "print(\"*** Code for \\\"{}\\\":\\n    {}\".format('a', char2id['a']))\n",
        "print(\"*** One-hot vector for \\\"{}\\\":\\n    {}\"\\\n",
        "      .format('a', to_categorical(char2id['a'], num_classes=len(char2id))))\n"
      ],
      "execution_count": 0,
      "outputs": [
        {
          "output_type": "stream",
          "text": [
            "*** Example character:\n",
            "    \"a\"\n",
            "*** Code for \"a\":\n",
            "    2\n",
            "*** One-hot vector for \"a\":\n",
            "    [0. 0. 1. 0. 0. 0. 0. 0. 0. 0. 0. 0. 0. 0. 0. 0. 0. 0. 0. 0. 0. 0. 0. 0.\n",
            " 0. 0. 0. 0. 0.]\n"
          ],
          "name": "stdout"
        }
      ]
    },
    {
      "cell_type": "markdown",
      "metadata": {
        "id": "cmkqhFaxp7VJ",
        "colab_type": "text"
      },
      "source": [
        "Note that the one-hot vectors are much larger than the characters or the character codes. If the entire dataset were converted to one-hot vectors, the dataset would be too large to handle:"
      ]
    },
    {
      "cell_type": "code",
      "metadata": {
        "id": "kDX9ZEZYmBGs",
        "colab_type": "code",
        "outputId": "39bf0afa-5438-4234-8842-939c6f4114cd",
        "colab": {
          "base_uri": "https://localhost:8080/",
          "height": 34
        }
      },
      "source": [
        "print(\"Values needed for one-hot encodings for entire dataset: {}\"\n",
        "  .format(len(word_set) * max_len * len(char2id)))"
      ],
      "execution_count": 0,
      "outputs": [
        {
          "output_type": "stream",
          "text": [
            "Values needed for one-hot encodings for entire dataset: 35085360\n"
          ],
          "name": "stdout"
        }
      ]
    },
    {
      "cell_type": "markdown",
      "metadata": {
        "id": "ekU4MH6Iq2Q4",
        "colab_type": "text"
      },
      "source": [
        "To alleviate this problem, an object can be created which generates the one-hot vectors only for the characters needed, instead of creating one-hot vectors for the entire training set."
      ]
    },
    {
      "cell_type": "code",
      "metadata": {
        "id": "ufaZYwj1qzPW",
        "colab_type": "code",
        "colab": {}
      },
      "source": [
        "class BatchGenerator:\n",
        "  def __init__(self, words, num_steps, batch_size, num_phonemes):\n",
        "    # an array of sentences, represented as words with ordinal codes\n",
        "    self.words = words\n",
        "    self.num_steps = num_steps\n",
        "    self.batch_size = batch_size\n",
        "    self.num_phonemes = num_phonemes\n",
        "\n",
        "    self.index = 0\n",
        "\n",
        "    self.end_code = char2id[\"END\"]\n",
        "\n",
        "  def generate(self):\n",
        "    x = np.zeros((self.batch_size, self.num_steps))\n",
        "    y = np.zeros((self.batch_size, self.num_steps, self.num_phonemes))\n",
        "\n",
        "    while True:\n",
        "      for i in range(self.batch_size):\n",
        "        x[i, :] = self.words[self.index]\n",
        "\n",
        "        # shift the outputs over by one index\n",
        "        temp_y = np.append(self.words[self.index,1:], self.end_code)\n",
        "\n",
        "        y[i, :, :] = to_categorical(temp_y, num_classes=self.num_phonemes)\n",
        "\n",
        "        self.index += 1\n",
        "        if self.index >= len(self.words):\n",
        "          self.index = 0\n",
        "      yield x, y"
      ],
      "execution_count": 0,
      "outputs": []
    },
    {
      "cell_type": "markdown",
      "metadata": {
        "id": "JmgdWFp5rzoA",
        "colab_type": "text"
      },
      "source": [
        "The code below shows how the BatchGenerator object can be used.\n",
        "\n",
        "train_gen.generate() returns an iterator which creates each batch of input words, along with its expected output as a one-hot vector.\n",
        "\n",
        "The number of words used in a particular batch can be modified with the batch_size parameter."
      ]
    },
    {
      "cell_type": "code",
      "metadata": {
        "id": "0QFoamH3rE0S",
        "colab_type": "code",
        "outputId": "ecc42ace-7319-4b64-d90e-5074bc65d530",
        "colab": {
          "base_uri": "https://localhost:8080/",
          "height": 459
        }
      },
      "source": [
        "batch_size = 2\n",
        "\n",
        "train_gen = BatchGenerator(word_grid, max_len, batch_size, len(char2id))\n",
        "\n",
        "for x, y in train_gen.generate():\n",
        "  print(\"Inputs:\")\n",
        "  print(x)\n",
        "  print()\n",
        "  print(\"Input shape: {}\".format(x.shape))\n",
        "\n",
        "  print()\n",
        "  print(\"Targets:\")\n",
        "  print(y)\n",
        "  print()\n",
        "  print(\"Target shape: {}\".format(y.shape))\n",
        "\n",
        "  # stop the loop because this is just an example\n",
        "  break"
      ],
      "execution_count": 0,
      "outputs": [
        {
          "output_type": "stream",
          "text": [
            "Inputs:\n",
            "[[ 7.  2. 16.  6.  1.  0.  0.  0.  0.  0.  0.  0.  0.  0.  0.  0.  0.  0.\n",
            "   0.  0.  0.  0.  0.  0.]\n",
            " [28.  2.  8.  8. 22.  5.  5.  1.  0.  0.  0.  0.  0.  0.  0.  0.  0.  0.\n",
            "   0.  0.  0.  0.  0.  0.]]\n",
            "\n",
            "Input shape: (2, 24)\n",
            "\n",
            "Targets:\n",
            "[[[0. 0. 1. ... 0. 0. 0.]\n",
            "  [0. 0. 0. ... 0. 0. 0.]\n",
            "  [0. 0. 0. ... 0. 0. 0.]\n",
            "  ...\n",
            "  [1. 0. 0. ... 0. 0. 0.]\n",
            "  [1. 0. 0. ... 0. 0. 0.]\n",
            "  [0. 1. 0. ... 0. 0. 0.]]\n",
            "\n",
            " [[0. 0. 1. ... 0. 0. 0.]\n",
            "  [0. 0. 0. ... 0. 0. 0.]\n",
            "  [0. 0. 0. ... 0. 0. 0.]\n",
            "  ...\n",
            "  [1. 0. 0. ... 0. 0. 0.]\n",
            "  [1. 0. 0. ... 0. 0. 0.]\n",
            "  [0. 1. 0. ... 0. 0. 0.]]]\n",
            "\n",
            "Target shape: (2, 24, 29)\n"
          ],
          "name": "stdout"
        }
      ]
    },
    {
      "cell_type": "markdown",
      "metadata": {
        "id": "RXE75aFtt5FL",
        "colab_type": "text"
      },
      "source": [
        "## 8. Set up the neural architecture\n",
        "\n",
        "This code sets up the neural architecture in Keras.\n",
        "\n",
        "We chose to implement a two-layered LSTM RNN.\n",
        "\n",
        "The input to the network is an embedding layer. This layer is a linear transformation which converts a character code to a vector of a given size (embedding_size). As the network trains, the embedding vector for each character will adjust, such that similar characters will develop similar embeddings. These embeddings will be analyzed later in this notebook.\n",
        "\n",
        "The embeddings are fed into an LSTM layer. LSTM was used by Mirea and Bicknell.\n",
        "\n",
        "The output of the LSTM layer is fed to a second LSTM layer. (Found to be ideal by Mirea and Bicknell).\n",
        "\n",
        "The output of the second LSTM layer is provided to a \"Dense\" (feed-forward) layer. This converts the output of the LSTM to a one-hot vector, which represents the RNNs output.\n",
        "\n",
        "The code below constructs the network, and prints a summary of the number of adjustable parameters needed for the network. This network contains around 3,000,000 parameters.\n",
        "\n",
        "The network is evaluated with a categorical cross entropy loss function, which is ideal for one-hot vector outputs. The \"Adam\" optimizer is the chosen method of gradient descent."
      ]
    },
    {
      "cell_type": "code",
      "metadata": {
        "id": "Ovma2-lzt4OE",
        "colab_type": "code",
        "outputId": "9d2389a3-a7c1-4ea9-c636-4d791dbb5d4b",
        "colab": {
          "base_uri": "https://localhost:8080/",
          "height": 527
        }
      },
      "source": [
        "# hyperparameters\n",
        "batch_size = 4000\n",
        "num_epochs = 200\n",
        "embedding_size = 10\n",
        "lstm_size = 512\n",
        "stopping_patience = 10\n",
        "\n",
        "model1 = Sequential()\n",
        "model1.add(Embedding(len(char2id), embedding_size, input_length = max_len, mask_zero=True))\n",
        "model1.add(LSTM(lstm_size, return_sequences=True))\n",
        "model1.add(LSTM(lstm_size, return_sequences=True))\n",
        "model1.add(Dense(len(char2id), activation = 'softmax'))\n",
        "model1.compile(loss = 'categorical_crossentropy', optimizer = 'adam', metrics=['accuracy'])\n",
        "print(model1.summary())"
      ],
      "execution_count": 0,
      "outputs": [
        {
          "output_type": "stream",
          "text": [
            "WARNING:tensorflow:From /usr/local/lib/python3.6/dist-packages/keras/backend/tensorflow_backend.py:66: The name tf.get_default_graph is deprecated. Please use tf.compat.v1.get_default_graph instead.\n",
            "\n",
            "WARNING:tensorflow:From /usr/local/lib/python3.6/dist-packages/keras/backend/tensorflow_backend.py:541: The name tf.placeholder is deprecated. Please use tf.compat.v1.placeholder instead.\n",
            "\n",
            "WARNING:tensorflow:From /usr/local/lib/python3.6/dist-packages/keras/backend/tensorflow_backend.py:4432: The name tf.random_uniform is deprecated. Please use tf.random.uniform instead.\n",
            "\n",
            "WARNING:tensorflow:From /usr/local/lib/python3.6/dist-packages/keras/backend/tensorflow_backend.py:3239: where (from tensorflow.python.ops.array_ops) is deprecated and will be removed in a future version.\n",
            "Instructions for updating:\n",
            "Use tf.where in 2.0, which has the same broadcast rule as np.where\n",
            "WARNING:tensorflow:From /usr/local/lib/python3.6/dist-packages/keras/optimizers.py:793: The name tf.train.Optimizer is deprecated. Please use tf.compat.v1.train.Optimizer instead.\n",
            "\n",
            "WARNING:tensorflow:From /usr/local/lib/python3.6/dist-packages/keras/backend/tensorflow_backend.py:3576: The name tf.log is deprecated. Please use tf.math.log instead.\n",
            "\n",
            "Model: \"sequential_1\"\n",
            "_________________________________________________________________\n",
            "Layer (type)                 Output Shape              Param #   \n",
            "=================================================================\n",
            "embedding_1 (Embedding)      (None, 24, 10)            290       \n",
            "_________________________________________________________________\n",
            "lstm_1 (LSTM)                (None, 24, 512)           1071104   \n",
            "_________________________________________________________________\n",
            "lstm_2 (LSTM)                (None, 24, 512)           2099200   \n",
            "_________________________________________________________________\n",
            "dense_1 (Dense)              (None, 24, 29)            14877     \n",
            "=================================================================\n",
            "Total params: 3,185,471\n",
            "Trainable params: 3,185,471\n",
            "Non-trainable params: 0\n",
            "_________________________________________________________________\n",
            "None\n"
          ],
          "name": "stdout"
        }
      ]
    },
    {
      "cell_type": "markdown",
      "metadata": {
        "id": "ZXBbLf9qw103",
        "colab_type": "text"
      },
      "source": [
        "## 9. Create batch generators for the train and validation data\n",
        "\n",
        "The code below divides the corpus into train, valid, and test sets, and produces BatchGenerators to be used to train the network."
      ]
    },
    {
      "cell_type": "code",
      "metadata": {
        "id": "UqJxe5MTsKu0",
        "colab_type": "code",
        "outputId": "86c98413-3af3-4d63-9bfd-9634c07bfa4c",
        "colab": {
          "base_uri": "https://localhost:8080/",
          "height": 51
        }
      },
      "source": [
        "X_train, X_valid = train_test_split(word_grid, test_size=0.2)\n",
        "\n",
        "train_gen = BatchGenerator(X_train, max_len, batch_size, len(char2id))\n",
        "valid_gen = BatchGenerator(X_valid, max_len, batch_size, len(char2id))\n",
        "\n",
        "\n",
        "print(\"Shape of training data:\", X_train.shape)\n",
        "print(\"Shape of validation data:\", X_valid.shape)"
      ],
      "execution_count": 0,
      "outputs": [
        {
          "output_type": "stream",
          "text": [
            "Shape of training data: (40328, 24)\n",
            "Shape of validation data: (10082, 24)\n"
          ],
          "name": "stdout"
        }
      ]
    },
    {
      "cell_type": "markdown",
      "metadata": {
        "id": "Gzje1WRQxpTE",
        "colab_type": "text"
      },
      "source": [
        "## 10. Train the neural network\n",
        "\n",
        "The code below executes the training process for the neural network.\n",
        "\n",
        "The \"stop\" variable here is used to perform early-stopping, i.e. to halt the training process after the validation accuracy does not improve for a specified number of times (stopping_patience). This ensures the training process runs long enough to reach its best performing state, and halt before overfitting.\n",
        "\n",
        "**Make sure the notebook has been set to run on a GPU, otherwise the training process will take much longer to finish. Note that when you change the hardware accelerator for a notebook, the notebook restarts.**"
      ]
    },
    {
      "cell_type": "code",
      "metadata": {
        "id": "VjcIiyzHxPmI",
        "colab_type": "code",
        "outputId": "227c48aa-de72-460f-d631-c993e4f15429",
        "colab": {
          "base_uri": "https://localhost:8080/",
          "height": 289
        }
      },
      "source": [
        "stop = EarlyStopping(monitor = 'val_acc', min_delta = 0, \n",
        "                             patience = stopping_patience, \n",
        "                              verbose = 1, mode = 'auto',\n",
        "                              restore_best_weights=True)\n",
        "\n",
        "address = folder + 'RNNFinal.hdf5'\n",
        "\n",
        "save = ModelCheckpoint(address, monitor = 'val_loss', \n",
        "                                verbose = 0, save_best_only = True)\n",
        "\n",
        "cbs = [stop, save]\n",
        "\n",
        "if False:\n",
        "  history = model1.fit_generator(train_gen.generate(), \n",
        "                                len(X_train) // batch_size, \n",
        "                                num_epochs,\n",
        "                                validation_data = valid_gen.generate(),\n",
        "                                validation_steps = len(X_valid) // batch_size,\n",
        "                                #validation_freq=[1] + list(range(0, num_epochs, 10)),\n",
        "                                callbacks=cbs,\n",
        "                                )\n",
        "else:\n",
        "  model1 = load_model(address)"
      ],
      "execution_count": 0,
      "outputs": [
        {
          "output_type": "stream",
          "text": [
            "WARNING:tensorflow:From /usr/local/lib/python3.6/dist-packages/keras/backend/tensorflow_backend.py:190: The name tf.get_default_session is deprecated. Please use tf.compat.v1.get_default_session instead.\n",
            "\n",
            "WARNING:tensorflow:From /usr/local/lib/python3.6/dist-packages/keras/backend/tensorflow_backend.py:197: The name tf.ConfigProto is deprecated. Please use tf.compat.v1.ConfigProto instead.\n",
            "\n",
            "WARNING:tensorflow:From /usr/local/lib/python3.6/dist-packages/keras/backend/tensorflow_backend.py:203: The name tf.Session is deprecated. Please use tf.compat.v1.Session instead.\n",
            "\n",
            "WARNING:tensorflow:From /usr/local/lib/python3.6/dist-packages/keras/backend/tensorflow_backend.py:207: The name tf.global_variables is deprecated. Please use tf.compat.v1.global_variables instead.\n",
            "\n",
            "WARNING:tensorflow:From /usr/local/lib/python3.6/dist-packages/keras/backend/tensorflow_backend.py:216: The name tf.is_variable_initialized is deprecated. Please use tf.compat.v1.is_variable_initialized instead.\n",
            "\n",
            "WARNING:tensorflow:From /usr/local/lib/python3.6/dist-packages/keras/backend/tensorflow_backend.py:223: The name tf.variables_initializer is deprecated. Please use tf.compat.v1.variables_initializer instead.\n",
            "\n",
            "WARNING:tensorflow:From /usr/local/lib/python3.6/dist-packages/keras/backend/tensorflow_backend.py:1033: The name tf.assign_add is deprecated. Please use tf.compat.v1.assign_add instead.\n",
            "\n",
            "WARNING:tensorflow:From /usr/local/lib/python3.6/dist-packages/keras/backend/tensorflow_backend.py:1020: The name tf.assign is deprecated. Please use tf.compat.v1.assign instead.\n",
            "\n"
          ],
          "name": "stdout"
        }
      ]
    },
    {
      "cell_type": "markdown",
      "metadata": {
        "id": "PyqfEMJg1dGZ",
        "colab_type": "text"
      },
      "source": [
        "## 11. Get example output\n",
        "\n",
        "Data from the test set can be provided to the model to show its prediction. The code below provides a sample for the RNNs output given a word from the test data.\n",
        "\n",
        "Note that the phones in the output will look incoherent, but this is to be expected. For example, if the RNN has seen that a word begins with \"n\", there is no way to know for sure which phone should follow, however, that phone should be a vowel rather than a consonant. The neural network will be trained to notice patterns like these, even if it cannot predict a word perfectly."
      ]
    },
    {
      "cell_type": "code",
      "metadata": {
        "id": "_m3QLvkL0LTP",
        "colab_type": "code",
        "outputId": "c387fe97-08f2-48ae-b3b2-bd75fb870ab1",
        "colab": {
          "base_uri": "https://localhost:8080/",
          "height": 231
        }
      },
      "source": [
        "prediction = model1.predict(X_test[:10])\n",
        "\n",
        "\n",
        "\n",
        "#print(\"prediction:\", prediction)\n",
        "#print(prediction.shape)\n",
        "\n",
        "#for i in range(prediction.shape[0]):\n",
        "for i in range(10):\n",
        "  # selects the largest value in the output vector as the prediction for the character\n",
        "  am = np.argmax(prediction[i], axis=1)\n",
        "  print(\"*\" * 80)\n",
        "  print(\"input  >>\", ' '.join([id2char[i] for i in X_test[i]]).replace(\"PAD\", \"_\"))\n",
        "  print(\"output >>\", ' '.join([id2char[i] for i in am]).replace(\"PAD\", \"_\"))"
      ],
      "execution_count": 0,
      "outputs": [
        {
          "output_type": "error",
          "ename": "NameError",
          "evalue": "ignored",
          "traceback": [
            "\u001b[0;31m---------------------------------------------------------------------------\u001b[0m",
            "\u001b[0;31mNameError\u001b[0m                                 Traceback (most recent call last)",
            "\u001b[0;32m<ipython-input-16-997e07a4c4e0>\u001b[0m in \u001b[0;36m<module>\u001b[0;34m()\u001b[0m\n\u001b[0;32m----> 1\u001b[0;31m \u001b[0mprediction\u001b[0m \u001b[0;34m=\u001b[0m \u001b[0mmodel1\u001b[0m\u001b[0;34m.\u001b[0m\u001b[0mpredict\u001b[0m\u001b[0;34m(\u001b[0m\u001b[0mX_test\u001b[0m\u001b[0;34m[\u001b[0m\u001b[0;34m:\u001b[0m\u001b[0;36m10\u001b[0m\u001b[0;34m]\u001b[0m\u001b[0;34m)\u001b[0m\u001b[0;34m\u001b[0m\u001b[0;34m\u001b[0m\u001b[0m\n\u001b[0m\u001b[1;32m      2\u001b[0m \u001b[0;34m\u001b[0m\u001b[0m\n\u001b[1;32m      3\u001b[0m \u001b[0;34m\u001b[0m\u001b[0m\n\u001b[1;32m      4\u001b[0m \u001b[0;34m\u001b[0m\u001b[0m\n\u001b[1;32m      5\u001b[0m \u001b[0;31m#print(\"prediction:\", prediction)\u001b[0m\u001b[0;34m\u001b[0m\u001b[0;34m\u001b[0m\u001b[0;34m\u001b[0m\u001b[0m\n",
            "\u001b[0;31mNameError\u001b[0m: name 'X_test' is not defined"
          ]
        }
      ]
    },
    {
      "cell_type": "markdown",
      "metadata": {
        "id": "MHU6RWCa3wWz",
        "colab_type": "text"
      },
      "source": [
        "## 12. Perform PCA on the embedding layer\n",
        "\n",
        "PCA is a common technique for dimensionality reduction in data mining, and it is useful to determine the features which the character embeddings have picked up.\n",
        "\n",
        "https://en.wikipedia.org/wiki/Principal_component_analysis\n",
        "\n",
        "Once the model is trained, the embedding layer can be accessed like so:"
      ]
    },
    {
      "cell_type": "code",
      "metadata": {
        "id": "5uGRPGCf1aiN",
        "colab_type": "code",
        "outputId": "4b110aa4-34a2-4fc7-eb02-a36ff7ff4fbe",
        "colab": {
          "base_uri": "https://localhost:8080/",
          "height": 68
        }
      },
      "source": [
        "# use index 0 since the embedding layer is the first layer in the NN\n",
        "emb_layer = model1.layers[0].get_weights()[0]\n",
        "\n",
        "example_char = \"a\"\n",
        "\n",
        "print(\"Embedding for \\\"{}\\\":\\n{}\".format(example_char, emb_layer[char2id[example_char]]))"
      ],
      "execution_count": 0,
      "outputs": [
        {
          "output_type": "stream",
          "text": [
            "Embedding for \"a\":\n",
            "[-0.12679183  0.01185041 -0.02285467 -0.02268622 -0.06314562  0.10734913\n",
            " -0.00571001  0.00707706  0.08011304  0.2726937 ]\n"
          ],
          "name": "stdout"
        }
      ]
    },
    {
      "cell_type": "markdown",
      "metadata": {
        "id": "T8D72IU54uAD",
        "colab_type": "text"
      },
      "source": [
        "Visualizing each of these vectors in 10-dimensional space is infeasible, so PCA can be used to find the two most significant dimensions which explain most of the variance, and plot the embeddings along those dimensions.\n",
        "\n",
        "Notice how vowels tend to cluster on one side of the plot, while consonants cluster on the other. Further phonetic correspondances can likely be found by visualizing more of the principal components. This could be explained in future work."
      ]
    },
    {
      "cell_type": "code",
      "metadata": {
        "id": "O3i_FU0s4h9a",
        "colab_type": "code",
        "outputId": "e96f4846-7123-41e2-ee01-6913d69789a9",
        "colab": {
          "base_uri": "https://localhost:8080/",
          "height": 619
        }
      },
      "source": [
        "pca = PCA()\n",
        "\n",
        "pca.fit(emb_layer)\n",
        "\n",
        "print(\"Explained variance by PC1 (x-axis): \", pca.explained_variance_ratio_[0])\n",
        "print(\"Explained variance by PC2 (y-axis): \", pca.explained_variance_ratio_[1])\n",
        "\n",
        "\n",
        "trans_vects = pca.transform(emb_layer)\n",
        "\n",
        "char_labels = [phon2ipa(id2char[i]) for i in range(len(id2char))]\n",
        "\n",
        "plt.figure(figsize=(12, 9))\n",
        "\n",
        "for c, x, y in zip(char_labels, trans_vects[:,0], trans_vects[:,1]):\n",
        "\n",
        "  color = \"blue\"\n",
        "  if c in ['a', 'e', 'i', 'o', 'u', 'ɴ', 'ŋ', 'END', 'PAD']:\n",
        "    color = \"red\"\n",
        "\n",
        "  # print(c, x, y)\n",
        "  plt.scatter(x, y, color=color)\n",
        "  plt.text(x+0.01, y+0.01, c, fontsize=12)\n",
        "  \n",
        "plt.title(\"PCA on Phoneme Embeddings\", fontsize=24)\n",
        "\n",
        "plt.axis('equal')\n",
        "plt.xlabel(\"PC 1 ({:.2f} % of the variange)\".format(pca.explained_variance_ratio_[0] * 100), fontsize=20)\n",
        "plt.ylabel(\"PC 2 ({:.2f} % of the variange)\".format(pca.explained_variance_ratio_[1] * 100), fontsize=20)\n",
        "plt.show()"
      ],
      "execution_count": 0,
      "outputs": [
        {
          "output_type": "stream",
          "text": [
            "Explained variance by PC1 (x-axis):  0.44755986\n",
            "Explained variance by PC2 (y-axis):  0.39190927\n"
          ],
          "name": "stdout"
        },
        {
          "output_type": "display_data",
          "data": {
            "image/png": "[encoded data removed]",
            "text/plain": [
              "<Figure size 864x648 with 1 Axes>"
            ]
          },
          "metadata": {
            "tags": []
          }
        }
      ]
    },
    {
      "cell_type": "markdown",
      "metadata": {
        "id": "nXklHDsE7vKw",
        "colab_type": "text"
      },
      "source": [
        "## 13 TODO other stuff"
      ]
    },
    {
      "cell_type": "code",
      "metadata": {
        "id": "wvPYQ3v_73c8",
        "colab_type": "code",
        "outputId": "834da4cd-6569-4a7e-e730-b86ad2f9553d",
        "colab": {
          "base_uri": "https://localhost:8080/",
          "height": 68
        }
      },
      "source": [
        "gem_file = folder + 'nonsense_geminates.csv'\n",
        "nas_file = folder + 'nonsense_nasals.csv'\n",
        "\n",
        "nasal_words = []\n",
        "with open(nas_file) as f:\n",
        "  next(f)\n",
        "  nasal_words = f.readlines()\n",
        "  nasal_words = [word[:-1] for word in nasal_words]\n",
        "\n",
        "print(nasal_words[:10])\n",
        "\n",
        "nasal_grid = np.zeros((len(nasal_words), max_len))\n",
        "\n",
        "for word_i in range(len(nasal_words)):\n",
        "  curr_word = nasal_words[word_i]\n",
        "  for char_i in range(len(curr_word)):\n",
        "    curr_char = curr_word[char_i]\n",
        "    nasal_grid[word_i, char_i] = char2id[curr_char]\n",
        "  \n",
        "  nasal_grid[word_i, len(curr_word)] = char2id[\"END\"]\n",
        "\n",
        "#\n",
        "# Geminates\n",
        "#\n",
        "\n",
        "gem_words = []\n",
        "#with open(gem_file) as f:\n",
        "#  next(f)\n",
        "#  gem_words = f.readlines()\n",
        "#  gem_words = [word[1:-2] for word in gem_words]\n",
        "#               \n",
        "#print(gem_words[:10])\n",
        "\n",
        "for v2 in \"aeiou\":\n",
        "  for c2 in \"pbfvtdszSZckgh\":\n",
        "    for v1 in \"aeiou\":\n",
        "      for c1 in \"pbfvtdszSZckgh\":\n",
        "        gem_words.append(c1 + v1 + c2 + v2)\n",
        "\n",
        "for v2 in \"aeiou\":\n",
        "  for c2 in \"pbfvtdszSZckgh\":\n",
        "    for v1 in \"aeiou\":\n",
        "      for c1 in \"pbfvtdszSZckgh\":\n",
        "        gem_words.append(c1 + v1 + c2 + c2 + v2)\n",
        "\n",
        "for v3 in \"aeiou\":\n",
        "  for c3 in \"pbfvtdszSZckgh\":\n",
        "    for v2 in \"aeiou\":\n",
        "      for c2 in \"pbfvtdszSZckgh\":\n",
        "        for v1 in \"aeiou\":\n",
        "          for c1 in \"pbfvtdszSZckgh\":\n",
        "            gem_words.append(c1 + v1 + c2 + v2 + c3 + v3)\n",
        "\n",
        "for v3 in \"aeiou\":\n",
        "  for c3 in \"pbfvtdszSZckgh\":\n",
        "    for v2 in \"aeiou\":\n",
        "      for c2 in \"pbfvtdszSZckgh\":\n",
        "        for v1 in \"aeiou\":\n",
        "          for c1 in \"pbfvtdszSZckgh\":\n",
        "            gem_words.append(c1 + v1 + c2 + v2 + c3 + c3 + v3)\n",
        "\n",
        "gem_grid = np.zeros((len(gem_words), max_len))\n",
        "\n",
        "for word_i in range(len(gem_words)):\n",
        "  curr_word = gem_words[word_i]\n",
        "  for char_i in range(len(curr_word)):\n",
        "    curr_char = curr_word[char_i]\n",
        "    gem_grid[word_i, char_i] = char2id[curr_char]\n",
        "  \n",
        "  gem_grid[word_i, len(curr_word)] = char2id[\"END\"]\n",
        "\n",
        "print(nasal_grid.shape)\n",
        "print(gem_grid.shape)"
      ],
      "execution_count": 0,
      "outputs": [
        {
          "output_type": "stream",
          "text": [
            "['panma', 'banma', 'fanma', 'vanma', 'nanma', 'tanma', 'danma', 'sanma', 'zanma', 'ranma']\n",
            "(61049, 24)\n",
            "(695800, 24)\n"
          ],
          "name": "stdout"
        }
      ]
    },
    {
      "cell_type": "code",
      "metadata": {
        "id": "WQV3O_WwN8mc",
        "colab_type": "code",
        "outputId": "55949d2f-280e-49f7-e292-37d16d0e4dbf",
        "colab": {
          "base_uri": "https://localhost:8080/",
          "height": 187
        }
      },
      "source": [
        "gem_words[10000:10010]"
      ],
      "execution_count": 0,
      "outputs": [
        {
          "output_type": "execute_result",
          "data": {
            "text/plain": [
              "['tufapa',\n",
              " 'dufapa',\n",
              " 'sufapa',\n",
              " 'zufapa',\n",
              " 'Sufapa',\n",
              " 'Zufapa',\n",
              " 'cufapa',\n",
              " 'kufapa',\n",
              " 'gufapa',\n",
              " 'hufapa']"
            ]
          },
          "metadata": {
            "tags": []
          },
          "execution_count": 20
        }
      ]
    },
    {
      "cell_type": "code",
      "metadata": {
        "id": "rh1x5rtSA7c3",
        "colab_type": "code",
        "outputId": "264c9e55-369b-4bd2-cb28-83612611efb1",
        "colab": {
          "base_uri": "https://localhost:8080/",
          "height": 68
        }
      },
      "source": [
        "japanese_word_set = set(word_set)\n",
        "\n",
        "thecount = 0\n",
        "for word in nasal_words:\n",
        "  if word in japanese_word_set:\n",
        "    thecount += 1\n",
        "    #print(word, end=\" \")\n",
        "\n",
        "print(thecount)\n",
        "print(len(japanese_word_set))\n",
        "print(len(nasal_words))"
      ],
      "execution_count": 0,
      "outputs": [
        {
          "output_type": "stream",
          "text": [
            "820\n",
            "50410\n",
            "61049\n"
          ],
          "name": "stdout"
        }
      ]
    },
    {
      "cell_type": "code",
      "metadata": {
        "id": "usAixmsW9vl2",
        "colab_type": "code",
        "colab": {}
      },
      "source": [
        "def pred_words(x_in, mod, verbose=False):\n",
        "\n",
        "  y = mod.predict(x_in)\n",
        "\n",
        "  #print(y)\n",
        "\n",
        "  temp_y = np.append(x_in[:,1:], char2id[\"PAD\"])\n",
        "\n",
        "  target = np.zeros(y.shape)\n",
        "\n",
        "  for i in range(target.shape[0]):\n",
        "    temp_y = np.append(x_in[i,1:], char2id[\"PAD\"])\n",
        "    target[i, :,  :] = to_categorical(temp_y, num_classes = y.shape[2])\n",
        "\n",
        "  loss, acc = mod.evaluate(x_in, target, verbose=0)\n",
        "\n",
        "  if verbose:\n",
        "    print('loss', loss)\n",
        "\n",
        "  return loss"
      ],
      "execution_count": 0,
      "outputs": []
    },
    {
      "cell_type": "code",
      "metadata": {
        "id": "OE-RamoV-RfD",
        "colab_type": "code",
        "outputId": "7e5b24da-97a6-40db-cb24-e19187a7eaed",
        "colab": {
          "base_uri": "https://localhost:8080/",
          "height": 51
        }
      },
      "source": [
        "print(nasal_grid[0])"
      ],
      "execution_count": 0,
      "outputs": [
        {
          "output_type": "stream",
          "text": [
            "[ 8.  2. 12.  7.  2.  1.  0.  0.  0.  0.  0.  0.  0.  0.  0.  0.  0.  0.\n",
            "  0.  0.  0.  0.  0.  0.]\n"
          ],
          "name": "stdout"
        }
      ]
    },
    {
      "cell_type": "code",
      "metadata": {
        "id": "cIBZVBFqFJN-",
        "colab_type": "code",
        "outputId": "f49fab61-b738-4253-ad45-625a67c0a4e4",
        "colab": {
          "base_uri": "https://localhost:8080/",
          "height": 34
        }
      },
      "source": [
        "import time\n",
        "\n",
        "start = time.time()\n",
        "\n",
        "for i in range(200):\n",
        "  pred_words(nasal_grid[i:i+1], model1)\n",
        "\n",
        "print(time.time()-start)"
      ],
      "execution_count": 0,
      "outputs": [
        {
          "output_type": "stream",
          "text": [
            "15.803042650222778\n"
          ],
          "name": "stdout"
        }
      ]
    },
    {
      "cell_type": "code",
      "metadata": {
        "id": "t3RbzTjuN70M",
        "colab_type": "code",
        "outputId": "46570d04-a8ff-48e0-88c3-4cc207999392",
        "colab": {
          "base_uri": "https://localhost:8080/",
          "height": 34
        }
      },
      "source": [
        "def nasal_indices(words, nasal_c, env_c):\n",
        "  envs = [nasal_c + cons for cons in env_c]\n",
        "\n",
        "  is_context = [(word[2:4] in envs) and (word not in japanese_word_set) for word in words]\n",
        "\n",
        "  return np.where(is_context)[0]\n",
        "\n",
        "len(nasal_indices(nasal_words, \"n\", \"pbfv\"))"
      ],
      "execution_count": 0,
      "outputs": [
        {
          "output_type": "execute_result",
          "data": {
            "text/plain": [
              "2200"
            ]
          },
          "metadata": {
            "tags": []
          },
          "execution_count": 25
        }
      ]
    },
    {
      "cell_type": "code",
      "metadata": {
        "id": "yLP0-fICQAtF",
        "colab_type": "code",
        "colab": {}
      },
      "source": [
        "import numpy as np\n",
        "\n",
        "nps = nasal_grid[nasal_indices(nasal_words, \"n\", \"pbfv\")]"
      ],
      "execution_count": 0,
      "outputs": []
    },
    {
      "cell_type": "code",
      "metadata": {
        "id": "1xIQbBygRF90",
        "colab_type": "code",
        "outputId": "e527a039-a56e-4e56-81f1-8a9ab9b25460",
        "colab": {
          "base_uri": "https://localhost:8080/",
          "height": 901
        }
      },
      "source": [
        "nasal_ents = []\n",
        "\n",
        "for nasal in \"mnMG\":\n",
        "  for environment in [\"pb\", \"tdsz\", \"y\", \"kg\"]:\n",
        "    selected_indices = nasal_indices(nasal_words, nasal, environment)\n",
        "\n",
        "    selected_ids = nasal_grid[selected_indices]\n",
        "\n",
        "    print(selected_ids.shape)\n",
        "\n",
        "    print(nasal, environment, selected_ids.shape)\n",
        "\n",
        "    ent = pred_words(selected_ids, model1)\n",
        "    print(ent)\n",
        "    nasal_ents.append(ent)\n",
        "  print()\n",
        "\n"
      ],
      "execution_count": 0,
      "outputs": [
        {
          "output_type": "stream",
          "text": [
            "(994, 24)\n",
            "m pb (994, 24)\n",
            "1.9662855909144135\n",
            "(2200, 24)\n",
            "m tdsz (2200, 24)\n",
            "2.738443678075617\n",
            "(547, 24)\n",
            "m y (547, 24)\n",
            "2.374091937729384\n",
            "(1100, 24)\n",
            "m kg (1100, 24)\n",
            "2.7691872241280295\n",
            "\n",
            "(1100, 24)\n",
            "n pb (1100, 24)\n",
            "2.63636287949302\n",
            "(2003, 24)\n",
            "n tdsz (2003, 24)\n",
            "2.0230640038453633\n",
            "(540, 24)\n",
            "n y (540, 24)\n",
            "2.3300783033724186\n",
            "(1100, 24)\n",
            "n kg (1100, 24)\n",
            "2.982823866930875\n",
            "\n",
            "(1100, 24)\n",
            "M pb (1100, 24)\n",
            "3.0241640689156273\n",
            "(2200, 24)\n",
            "M tdsz (2200, 24)\n",
            "3.526715801412409\n",
            "(530, 24)\n",
            "M y (530, 24)\n",
            "2.4537489891052244\n",
            "(1100, 24)\n",
            "M kg (1100, 24)\n",
            "3.2506251257116143\n",
            "\n",
            "(1100, 24)\n",
            "G pb (1100, 24)\n",
            "2.974809989929199\n",
            "(2200, 24)\n",
            "G tdsz (2200, 24)\n",
            "3.118735624660145\n",
            "(550, 24)\n",
            "G y (550, 24)\n",
            "3.0250299132953993\n",
            "(903, 24)\n",
            "G kg (903, 24)\n",
            "1.8787735833942165\n",
            "\n"
          ],
          "name": "stdout"
        }
      ]
    },
    {
      "cell_type": "code",
      "metadata": {
        "id": "P-fROYHtR3MM",
        "colab_type": "code",
        "outputId": "23188743-6861-4422-be1f-50e650298340",
        "colab": {
          "base_uri": "https://localhost:8080/",
          "height": 408
        }
      },
      "source": [
        "matfig = plt.figure(figsize=(20,5))\n",
        "\n",
        "nasal_np = np.reshape(nasal_ents, (4,4))\n",
        "\n",
        "im = plt.matshow(nasal_np, cmap=\"viridis_r\", label=\"Cross Entropy\", fignum=matfig.number, vmin=1.6, vmax=3.6)\n",
        "# good colors - winter_r , viridis_r\n",
        "\n",
        "ax = plt.gca()\n",
        "\n",
        "for i in range(nasal_np.shape[0]):\n",
        "    for j in range(nasal_np.shape[1]):\n",
        "        text = ax.text(j, i, \"{:.2f}\".format(nasal_np[i, j]),\n",
        "                       ha=\"center\", va=\"center\", color=\"w\", fontsize=18)\n",
        "        text.set_path_effects([pe.withStroke(linewidth=4, foreground='k')])\n",
        "\n",
        "cbar = ax.figure.colorbar(im, ax=ax)\n",
        "cbar.ax.set_ylabel(\"Cross-Entropy\", rotation=-90, va=\"bottom\", fontsize=16)\n",
        "\n",
        "#plt.imshow(-np.reshape(means, (5,4)))\n",
        "\n",
        "plt.xticks([0, 1, 2, 3], [\"__ [+labial]\", \"__ [+coronal]\", \"__ [+palatal]\", \"__ [+velar]\"], fontsize=16, rotation=45)\n",
        "plt.yticks([0, 1, 2, 3], [\" m\", \" n\", \" \" + phon2ipa(\"M\"), phon2ipa(\"G\")], fontsize=16, rotation=0)\n",
        "\n",
        "plt.show()"
      ],
      "execution_count": 0,
      "outputs": [
        {
          "output_type": "display_data",
          "data": {
            "image/png": "[encoded data removed]",
            "text/plain": [
              "<Figure size 1440x360 with 2 Axes>"
            ]
          },
          "metadata": {
            "tags": []
          }
        }
      ]
    },
    {
      "cell_type": "code",
      "metadata": {
        "id": "g6oU-ZdlSN9k",
        "colab_type": "code",
        "outputId": "53925df1-af87-4eab-e22e-fc5f0feb81ac",
        "colab": {
          "base_uri": "https://localhost:8080/",
          "height": 34
        }
      },
      "source": [
        "len(gem_words)"
      ],
      "execution_count": 0,
      "outputs": [
        {
          "output_type": "execute_result",
          "data": {
            "text/plain": [
              "695800"
            ]
          },
          "metadata": {
            "tags": []
          },
          "execution_count": 29
        }
      ]
    },
    {
      "cell_type": "code",
      "metadata": {
        "id": "48YcHAB_Sa6x",
        "colab_type": "code",
        "colab": {}
      },
      "source": [
        "def gem_indices(words, c1, c2, c3=None):\n",
        "  envs = [re.split(\"[aeiou]\", word)[:-1] for word in words]\n",
        "\n",
        "  not_is_japanese = [word not in japanese_word_set for word in words]\n",
        "\n",
        "  if c3 is None:\n",
        "    is_context = [len(chars) == 2 and chars[0] in c1 and chars[1] in c2 for chars in envs]\n",
        "  else:\n",
        "    is_context = [len(chars) == 3 and chars[0] in c1 and chars[1] in c2 and chars[2] in c3 for chars in envs]\n",
        "\n",
        "  return np.where(np.logical_and(is_context, not_is_japanese))[0]"
      ],
      "execution_count": 0,
      "outputs": []
    },
    {
      "cell_type": "code",
      "metadata": {
        "id": "7bu9PpIRDARD",
        "colab_type": "code",
        "outputId": "99dbe1f7-1540-476d-d2e2-1649f2ced6ec",
        "colab": {
          "base_uri": "https://localhost:8080/",
          "height": 34
        }
      },
      "source": [
        "np.array(gem_words)[(gem_indices(gem_words, [\"s\"], [\"r\"]))]\n",
        "\n"
      ],
      "execution_count": 0,
      "outputs": [
        {
          "output_type": "execute_result",
          "data": {
            "text/plain": [
              "array([], dtype='<U7')"
            ]
          },
          "metadata": {
            "tags": []
          },
          "execution_count": 31
        }
      ]
    },
    {
      "cell_type": "code",
      "metadata": {
        "id": "3x-kpIh-Ot_l",
        "colab_type": "code",
        "colab": {}
      },
      "source": [
        "not_is_japanese = [word not in japanese_word_set for word in gem_words]"
      ],
      "execution_count": 0,
      "outputs": []
    },
    {
      "cell_type": "code",
      "metadata": {
        "id": "SFB2pCzaPQPK",
        "colab_type": "code",
        "outputId": "aad495d0-4271-4058-f212-7b959fdc3e95",
        "colab": {
          "base_uri": "https://localhost:8080/",
          "height": 34
        }
      },
      "source": [
        "len(np.where(not_is_japanese)[0])"
      ],
      "execution_count": 0,
      "outputs": [
        {
          "output_type": "execute_result",
          "data": {
            "text/plain": [
              "693781"
            ]
          },
          "metadata": {
            "tags": []
          },
          "execution_count": 33
        }
      ]
    },
    {
      "cell_type": "code",
      "metadata": {
        "id": "Qc31A4xpQaVg",
        "colab_type": "code",
        "outputId": "f91d7aa5-755a-4c8c-c4e8-ce80d698e32c",
        "colab": {
          "base_uri": "https://localhost:8080/",
          "height": 656
        }
      },
      "source": [
        "voiced_c = list(\"bvdzZg\")\n",
        "voiceless_c = list(\"pftsSckh\")\n",
        "\n",
        "voiced_sing = [\"b\", \"d\", \"g\"]\n",
        "voiceless_sing = [\"p\", \"t\", \"k\"]\n",
        "\n",
        "voiced_gems = [\"bb\", \"dd\", \"gg\"]\n",
        "voiceless_gems = [\"pp\", \"tt\", \"kk\"]\n",
        "\n",
        "gem_ents = []\n",
        "\n",
        "# voiced vs voiceless geminates: 1 mora\n",
        "for c1 in [voiced_c, voiceless_c]:\n",
        "  for g2 in [voiced_gems, voiceless_gems]:\n",
        "    print(c1, g2)\n",
        "    curr_inds = gem_indices(gem_words, c1, g2)\n",
        "\n",
        "    selected_ids = gem_grid[curr_inds]\n",
        "\n",
        "    print(selected_ids.shape)\n",
        "\n",
        "    ent = pred_words(selected_ids, model1)\n",
        "    print(ent)\n",
        "    gem_ents.append(ent)\n",
        "\n",
        "sing_ents = []\n",
        "\n",
        "# voiced vs voiceless singletons: 1 mora\n",
        "for c1 in [voiced_c, voiceless_c]:\n",
        "  for g2 in [voiced_sing, voiceless_sing]:\n",
        "    print(c1, g2)\n",
        "    curr_inds = gem_indices(gem_words, c1, g2)\n",
        "\n",
        "    selected_ids = gem_grid[curr_inds]\n",
        "\n",
        "    print(selected_ids.shape)\n",
        "\n",
        "    ent = pred_words(selected_ids, model1)\n",
        "    print(ent)\n",
        "    sing_ents.append(ent)\n",
        "\n"
      ],
      "execution_count": 0,
      "outputs": [
        {
          "output_type": "stream",
          "text": [
            "['b', 'v', 'd', 'z', 'Z', 'g'] ['bb', 'dd', 'gg']\n",
            "(439, 24)\n",
            "2.3958104580029813\n",
            "['b', 'v', 'd', 'z', 'Z', 'g'] ['pp', 'tt', 'kk']\n",
            "(387, 24)\n",
            "1.7376909462364454\n",
            "['p', 'f', 't', 's', 'S', 'c', 'k', 'h'] ['bb', 'dd', 'gg']\n",
            "(591, 24)\n",
            "2.5680607942558584\n",
            "['p', 'f', 't', 's', 'S', 'c', 'k', 'h'] ['pp', 'tt', 'kk']\n",
            "(462, 24)\n",
            "1.931623867579869\n",
            "['b', 'v', 'd', 'z', 'Z', 'g'] ['b', 'd', 'g']\n",
            "(395, 24)\n",
            "1.9984562937217423\n",
            "['b', 'v', 'd', 'z', 'Z', 'g'] ['p', 't', 'k']\n",
            "(364, 24)\n",
            "2.19833132984874\n",
            "['p', 'f', 't', 's', 'S', 'c', 'k', 'h'] ['b', 'd', 'g']\n",
            "(441, 24)\n",
            "2.276360110090433\n",
            "['p', 'f', 't', 's', 'S', 'c', 'k', 'h'] ['p', 't', 'k']\n",
            "(440, 24)\n",
            "2.424506074732\n"
          ],
          "name": "stdout"
        },
        {
          "output_type": "display_data",
          "data": {
            "image/png": "[encoded data removed]",
            "text/plain": [
              "<Figure size 432x288 with 3 Axes>"
            ]
          },
          "metadata": {
            "tags": []
          }
        }
      ]
    },
    {
      "cell_type": "code",
      "metadata": {
        "id": "VqGaTEQrR4oQ",
        "colab_type": "code",
        "outputId": "0a81006c-217d-40ae-f4bc-9a83d0e59b4e",
        "colab": {
          "base_uri": "https://localhost:8080/",
          "height": 417
        }
      },
      "source": [
        "\n",
        "import matplotlib.patheffects as pe\n",
        "\n",
        "matfig = plt.figure(figsize=(20,5))\n",
        "\n",
        "gem_np = np.reshape(gem_ents, (2,2))\n",
        "\n",
        "im = plt.matshow(gem_np, cmap=\"viridis_r\", label=\"Cross Entropy\", fignum=matfig.number, vmin=1.6, vmax=3.6)\n",
        "# good colors - winter_r , viridis_r\n",
        "\n",
        "ax = plt.gca()\n",
        "\n",
        "for i in range(gem_np.shape[0]):\n",
        "    for j in range(gem_np.shape[1]):\n",
        "        text = ax.text(j, i, \"{:.2f}\".format(gem_np[i, j]),\n",
        "                       ha=\"center\", va=\"center\", color=\"w\", fontsize=24)\n",
        "        text.set_path_effects([pe.withStroke(linewidth=4, foreground='k')])\n",
        "\n",
        "\n",
        "\n",
        "\n",
        "cbar = ax.figure.colorbar(im, ax=ax)\n",
        "cbar.ax.set_ylabel(\"Cross-Entropy\", rotation=-90, va=\"bottom\", fontsize=16)\n",
        "\n",
        "#plt.imshow(-np.reshape(means, (5,4)))\n",
        "\n",
        "plt.yticks([0, 1], [\"C1 voiced\", \"C1 voiceless\"], fontsize=16)\n",
        "plt.xticks([0, 1], [\"Gem. voiced\", \"Gem. voiceless\"], fontsize=16, rotation=45)\n",
        "\n",
        "plt.show()\n",
        "\n",
        "\n",
        "\n"
      ],
      "execution_count": 0,
      "outputs": [
        {
          "output_type": "display_data",
          "data": {
            "image/png": "[encoded data removed]",
            "text/plain": [
              "<Figure size 1440x360 with 2 Axes>"
            ]
          },
          "metadata": {
            "tags": []
          }
        }
      ]
    },
    {
      "cell_type": "code",
      "metadata": {
        "id": "bqeVOSEzBhnb",
        "colab_type": "code",
        "outputId": "7d077f59-9508-43ae-e13f-d5e8ca025f53",
        "colab": {
          "base_uri": "https://localhost:8080/",
          "height": 415
        }
      },
      "source": [
        "matfig = plt.figure(figsize=(20,5))\n",
        "\n",
        "sing_np = np.reshape(sing_ents, (2,2))\n",
        "\n",
        "im = plt.matshow(sing_np, cmap=\"viridis_r\", label=\"Cross Entropy\", fignum=matfig.number, vmin=1.6, vmax=3.6)\n",
        "# good colors - winter_r , viridis_r\n",
        "\n",
        "ax = plt.gca()\n",
        "\n",
        "for i in range(sing_np.shape[0]):\n",
        "    for j in range(sing_np.shape[1]):\n",
        "        text = ax.text(j, i, \"{:.2f}\".format(sing_np[i, j]),\n",
        "                       ha=\"center\", va=\"center\", color=\"w\", fontsize=24)\n",
        "        text.set_path_effects([pe.withStroke(linewidth=4, foreground='k')])\n",
        "\n",
        "cbar = ax.figure.colorbar(im, ax=ax)\n",
        "cbar.ax.set_ylabel(\"Cross-Entropy\", rotation=-90, va=\"bottom\", fontsize=16)\n",
        "\n",
        "#plt.imshow(-np.reshape(means, (5,4)))\n",
        "\n",
        "plt.yticks([0, 1], [\"C1 voiced\", \"C1 voiceless\"], fontsize=16)\n",
        "plt.xticks([0, 1], [\"Sing. voiced\", \"Sing. voiceless\"], fontsize=16, rotation=45)\n",
        "\n",
        "plt.show()\n",
        "\n"
      ],
      "execution_count": 0,
      "outputs": [
        {
          "output_type": "display_data",
          "data": {
            "image/png": "[encoded data removed]",
            "text/plain": [
              "<Figure size 1440x360 with 2 Axes>"
            ]
          },
          "metadata": {
            "tags": []
          }
        }
      ]
    },
    {
      "cell_type": "code",
      "metadata": {
        "id": "u99UATMVVURI",
        "colab_type": "code",
        "outputId": "ce119b79-12ad-4af1-c5d9-f7a774abd97d",
        "colab": {
          "base_uri": "https://localhost:8080/",
          "height": 612
        }
      },
      "source": [
        "two_mora_ents = []\n",
        "\n",
        "# voiced vs voiceless geminates: 1 mora\n",
        "for c2 in [voiceless_c, voiced_c]:\n",
        "  for c1 in [voiceless_c, voiced_c]:\n",
        "    if c1 is voiced_c and c2 is voiced_c:\n",
        "      continue\n",
        "    for g2 in [voiced_gems, voiceless_gems, voiced_sing, voiceless_sing]:\n",
        "      print(c1, c2, g2)\n",
        "      curr_inds = gem_indices(gem_words, c1, c2, c3=g2)\n",
        "\n",
        "      selected_ids = gem_grid[curr_inds]\n",
        "\n",
        "      print(selected_ids.shape)\n",
        "\n",
        "      ent = pred_words(selected_ids, model1)\n",
        "      print(ent)\n",
        "      two_mora_ents.append(ent)\n",
        "\n"
      ],
      "execution_count": 0,
      "outputs": [
        {
          "output_type": "stream",
          "text": [
            "['p', 'f', 't', 's', 'S', 'c', 'k', 'h'] ['p', 'f', 't', 's', 'S', 'c', 'k', 'h'] ['bb', 'dd', 'gg']\n",
            "(24000, 24)\n",
            "2.9449919408162435\n",
            "['p', 'f', 't', 's', 'S', 'c', 'k', 'h'] ['p', 'f', 't', 's', 'S', 'c', 'k', 'h'] ['pp', 'tt', 'kk']\n",
            "(23951, 24)\n",
            "2.357329369636524\n",
            "['p', 'f', 't', 's', 'S', 'c', 'k', 'h'] ['p', 'f', 't', 's', 'S', 'c', 'k', 'h'] ['b', 'd', 'g']\n",
            "(23844, 24)\n",
            "2.50374459340416\n",
            "['p', 'f', 't', 's', 'S', 'c', 'k', 'h'] ['p', 'f', 't', 's', 'S', 'c', 'k', 'h'] ['p', 't', 'k']\n",
            "(23760, 24)\n",
            "2.4704042685152303\n",
            "['b', 'v', 'd', 'z', 'Z', 'g'] ['p', 'f', 't', 's', 'S', 'c', 'k', 'h'] ['bb', 'dd', 'gg']\n",
            "(18000, 24)\n"
          ],
          "name": "stdout"
        },
        {
          "output_type": "error",
          "ename": "KeyboardInterrupt",
          "evalue": "ignored",
          "traceback": [
            "\u001b[0;31m---------------------------------------------------------------------------\u001b[0m",
            "\u001b[0;31mKeyboardInterrupt\u001b[0m                         Traceback (most recent call last)",
            "\u001b[0;32m<ipython-input-36-697882918be6>\u001b[0m in \u001b[0;36m<module>\u001b[0;34m()\u001b[0m\n\u001b[1;32m     14\u001b[0m       \u001b[0mprint\u001b[0m\u001b[0;34m(\u001b[0m\u001b[0mselected_ids\u001b[0m\u001b[0;34m.\u001b[0m\u001b[0mshape\u001b[0m\u001b[0;34m)\u001b[0m\u001b[0;34m\u001b[0m\u001b[0;34m\u001b[0m\u001b[0m\n\u001b[1;32m     15\u001b[0m \u001b[0;34m\u001b[0m\u001b[0m\n\u001b[0;32m---> 16\u001b[0;31m       \u001b[0ment\u001b[0m \u001b[0;34m=\u001b[0m \u001b[0mpred_words\u001b[0m\u001b[0;34m(\u001b[0m\u001b[0mselected_ids\u001b[0m\u001b[0;34m,\u001b[0m \u001b[0mmodel1\u001b[0m\u001b[0;34m)\u001b[0m\u001b[0;34m\u001b[0m\u001b[0;34m\u001b[0m\u001b[0m\n\u001b[0m\u001b[1;32m     17\u001b[0m       \u001b[0mprint\u001b[0m\u001b[0;34m(\u001b[0m\u001b[0ment\u001b[0m\u001b[0;34m)\u001b[0m\u001b[0;34m\u001b[0m\u001b[0;34m\u001b[0m\u001b[0m\n\u001b[1;32m     18\u001b[0m       \u001b[0mtwo_mora_ents\u001b[0m\u001b[0;34m.\u001b[0m\u001b[0mappend\u001b[0m\u001b[0;34m(\u001b[0m\u001b[0ment\u001b[0m\u001b[0;34m)\u001b[0m\u001b[0;34m\u001b[0m\u001b[0;34m\u001b[0m\u001b[0m\n",
            "\u001b[0;32m<ipython-input-22-39c00f1fe996>\u001b[0m in \u001b[0;36mpred_words\u001b[0;34m(x_in, mod, verbose)\u001b[0m\n\u001b[1;32m     13\u001b[0m     \u001b[0mtarget\u001b[0m\u001b[0;34m[\u001b[0m\u001b[0mi\u001b[0m\u001b[0;34m,\u001b[0m \u001b[0;34m:\u001b[0m\u001b[0;34m,\u001b[0m  \u001b[0;34m:\u001b[0m\u001b[0;34m]\u001b[0m \u001b[0;34m=\u001b[0m \u001b[0mto_categorical\u001b[0m\u001b[0;34m(\u001b[0m\u001b[0mtemp_y\u001b[0m\u001b[0;34m,\u001b[0m \u001b[0mnum_classes\u001b[0m \u001b[0;34m=\u001b[0m \u001b[0my\u001b[0m\u001b[0;34m.\u001b[0m\u001b[0mshape\u001b[0m\u001b[0;34m[\u001b[0m\u001b[0;36m2\u001b[0m\u001b[0;34m]\u001b[0m\u001b[0;34m)\u001b[0m\u001b[0;34m\u001b[0m\u001b[0;34m\u001b[0m\u001b[0m\n\u001b[1;32m     14\u001b[0m \u001b[0;34m\u001b[0m\u001b[0m\n\u001b[0;32m---> 15\u001b[0;31m   \u001b[0mloss\u001b[0m\u001b[0;34m,\u001b[0m \u001b[0macc\u001b[0m \u001b[0;34m=\u001b[0m \u001b[0mmod\u001b[0m\u001b[0;34m.\u001b[0m\u001b[0mevaluate\u001b[0m\u001b[0;34m(\u001b[0m\u001b[0mx_in\u001b[0m\u001b[0;34m,\u001b[0m \u001b[0mtarget\u001b[0m\u001b[0;34m,\u001b[0m \u001b[0mverbose\u001b[0m\u001b[0;34m=\u001b[0m\u001b[0;36m0\u001b[0m\u001b[0;34m)\u001b[0m\u001b[0;34m\u001b[0m\u001b[0;34m\u001b[0m\u001b[0m\n\u001b[0m\u001b[1;32m     16\u001b[0m \u001b[0;34m\u001b[0m\u001b[0m\n\u001b[1;32m     17\u001b[0m   \u001b[0;32mif\u001b[0m \u001b[0mverbose\u001b[0m\u001b[0;34m:\u001b[0m\u001b[0;34m\u001b[0m\u001b[0;34m\u001b[0m\u001b[0m\n",
            "\u001b[0;32m/usr/local/lib/python3.6/dist-packages/keras/engine/training.py\u001b[0m in \u001b[0;36mevaluate\u001b[0;34m(self, x, y, batch_size, verbose, sample_weight, steps, callbacks, max_queue_size, workers, use_multiprocessing)\u001b[0m\n\u001b[1;32m   1298\u001b[0m                                          \u001b[0mverbose\u001b[0m\u001b[0;34m=\u001b[0m\u001b[0mverbose\u001b[0m\u001b[0;34m,\u001b[0m\u001b[0;34m\u001b[0m\u001b[0;34m\u001b[0m\u001b[0m\n\u001b[1;32m   1299\u001b[0m                                          \u001b[0msteps\u001b[0m\u001b[0;34m=\u001b[0m\u001b[0msteps\u001b[0m\u001b[0;34m,\u001b[0m\u001b[0;34m\u001b[0m\u001b[0;34m\u001b[0m\u001b[0m\n\u001b[0;32m-> 1300\u001b[0;31m                                          callbacks=callbacks)\n\u001b[0m\u001b[1;32m   1301\u001b[0m \u001b[0;34m\u001b[0m\u001b[0m\n\u001b[1;32m   1302\u001b[0m     def predict(self, x,\n",
            "\u001b[0;32m/usr/local/lib/python3.6/dist-packages/keras/engine/training_arrays.py\u001b[0m in \u001b[0;36mtest_loop\u001b[0;34m(model, f, ins, batch_size, verbose, steps, callbacks)\u001b[0m\n\u001b[1;32m    468\u001b[0m             \u001b[0mbatch_logs\u001b[0m \u001b[0;34m=\u001b[0m \u001b[0;34m{\u001b[0m\u001b[0;34m'batch'\u001b[0m\u001b[0;34m:\u001b[0m \u001b[0mbatch_index\u001b[0m\u001b[0;34m,\u001b[0m \u001b[0;34m'size'\u001b[0m\u001b[0;34m:\u001b[0m \u001b[0mlen\u001b[0m\u001b[0;34m(\u001b[0m\u001b[0mbatch_ids\u001b[0m\u001b[0;34m)\u001b[0m\u001b[0;34m}\u001b[0m\u001b[0;34m\u001b[0m\u001b[0;34m\u001b[0m\u001b[0m\n\u001b[1;32m    469\u001b[0m             \u001b[0mcallbacks\u001b[0m\u001b[0;34m.\u001b[0m\u001b[0m_call_batch_hook\u001b[0m\u001b[0;34m(\u001b[0m\u001b[0;34m'test'\u001b[0m\u001b[0;34m,\u001b[0m \u001b[0;34m'begin'\u001b[0m\u001b[0;34m,\u001b[0m \u001b[0mbatch_index\u001b[0m\u001b[0;34m,\u001b[0m \u001b[0mbatch_logs\u001b[0m\u001b[0;34m)\u001b[0m\u001b[0;34m\u001b[0m\u001b[0;34m\u001b[0m\u001b[0m\n\u001b[0;32m--> 470\u001b[0;31m             \u001b[0mbatch_outs\u001b[0m \u001b[0;34m=\u001b[0m \u001b[0mf\u001b[0m\u001b[0;34m(\u001b[0m\u001b[0mins_batch\u001b[0m\u001b[0;34m)\u001b[0m\u001b[0;34m\u001b[0m\u001b[0;34m\u001b[0m\u001b[0m\n\u001b[0m\u001b[1;32m    471\u001b[0m             \u001b[0;32mif\u001b[0m \u001b[0misinstance\u001b[0m\u001b[0;34m(\u001b[0m\u001b[0mbatch_outs\u001b[0m\u001b[0;34m,\u001b[0m \u001b[0mlist\u001b[0m\u001b[0;34m)\u001b[0m\u001b[0;34m:\u001b[0m\u001b[0;34m\u001b[0m\u001b[0;34m\u001b[0m\u001b[0m\n\u001b[1;32m    472\u001b[0m                 \u001b[0;32mif\u001b[0m \u001b[0mbatch_index\u001b[0m \u001b[0;34m==\u001b[0m \u001b[0;36m0\u001b[0m\u001b[0;34m:\u001b[0m\u001b[0;34m\u001b[0m\u001b[0;34m\u001b[0m\u001b[0m\n",
            "\u001b[0;32m/usr/local/lib/python3.6/dist-packages/keras/backend/tensorflow_backend.py\u001b[0m in \u001b[0;36m__call__\u001b[0;34m(self, inputs)\u001b[0m\n\u001b[1;32m   2977\u001b[0m                     \u001b[0;32mreturn\u001b[0m \u001b[0mself\u001b[0m\u001b[0;34m.\u001b[0m\u001b[0m_legacy_call\u001b[0m\u001b[0;34m(\u001b[0m\u001b[0minputs\u001b[0m\u001b[0;34m)\u001b[0m\u001b[0;34m\u001b[0m\u001b[0;34m\u001b[0m\u001b[0m\n\u001b[1;32m   2978\u001b[0m \u001b[0;34m\u001b[0m\u001b[0m\n\u001b[0;32m-> 2979\u001b[0;31m             \u001b[0;32mreturn\u001b[0m \u001b[0mself\u001b[0m\u001b[0;34m.\u001b[0m\u001b[0m_call\u001b[0m\u001b[0;34m(\u001b[0m\u001b[0minputs\u001b[0m\u001b[0;34m)\u001b[0m\u001b[0;34m\u001b[0m\u001b[0;34m\u001b[0m\u001b[0m\n\u001b[0m\u001b[1;32m   2980\u001b[0m         \u001b[0;32melse\u001b[0m\u001b[0;34m:\u001b[0m\u001b[0;34m\u001b[0m\u001b[0;34m\u001b[0m\u001b[0m\n\u001b[1;32m   2981\u001b[0m             \u001b[0;32mif\u001b[0m \u001b[0mpy_any\u001b[0m\u001b[0;34m(\u001b[0m\u001b[0mis_tensor\u001b[0m\u001b[0;34m(\u001b[0m\u001b[0mx\u001b[0m\u001b[0;34m)\u001b[0m \u001b[0;32mfor\u001b[0m \u001b[0mx\u001b[0m \u001b[0;32min\u001b[0m \u001b[0minputs\u001b[0m\u001b[0;34m)\u001b[0m\u001b[0;34m:\u001b[0m\u001b[0;34m\u001b[0m\u001b[0;34m\u001b[0m\u001b[0m\n",
            "\u001b[0;32m/usr/local/lib/python3.6/dist-packages/keras/backend/tensorflow_backend.py\u001b[0m in \u001b[0;36m_call\u001b[0;34m(self, inputs)\u001b[0m\n\u001b[1;32m   2935\u001b[0m             \u001b[0mfetched\u001b[0m \u001b[0;34m=\u001b[0m \u001b[0mself\u001b[0m\u001b[0;34m.\u001b[0m\u001b[0m_callable_fn\u001b[0m\u001b[0;34m(\u001b[0m\u001b[0;34m*\u001b[0m\u001b[0marray_vals\u001b[0m\u001b[0;34m,\u001b[0m \u001b[0mrun_metadata\u001b[0m\u001b[0;34m=\u001b[0m\u001b[0mself\u001b[0m\u001b[0;34m.\u001b[0m\u001b[0mrun_metadata\u001b[0m\u001b[0;34m)\u001b[0m\u001b[0;34m\u001b[0m\u001b[0;34m\u001b[0m\u001b[0m\n\u001b[1;32m   2936\u001b[0m         \u001b[0;32melse\u001b[0m\u001b[0;34m:\u001b[0m\u001b[0;34m\u001b[0m\u001b[0;34m\u001b[0m\u001b[0m\n\u001b[0;32m-> 2937\u001b[0;31m             \u001b[0mfetched\u001b[0m \u001b[0;34m=\u001b[0m \u001b[0mself\u001b[0m\u001b[0;34m.\u001b[0m\u001b[0m_callable_fn\u001b[0m\u001b[0;34m(\u001b[0m\u001b[0;34m*\u001b[0m\u001b[0marray_vals\u001b[0m\u001b[0;34m)\u001b[0m\u001b[0;34m\u001b[0m\u001b[0;34m\u001b[0m\u001b[0m\n\u001b[0m\u001b[1;32m   2938\u001b[0m         \u001b[0;32mreturn\u001b[0m \u001b[0mfetched\u001b[0m\u001b[0;34m[\u001b[0m\u001b[0;34m:\u001b[0m\u001b[0mlen\u001b[0m\u001b[0;34m(\u001b[0m\u001b[0mself\u001b[0m\u001b[0;34m.\u001b[0m\u001b[0moutputs\u001b[0m\u001b[0;34m)\u001b[0m\u001b[0;34m]\u001b[0m\u001b[0;34m\u001b[0m\u001b[0;34m\u001b[0m\u001b[0m\n\u001b[1;32m   2939\u001b[0m \u001b[0;34m\u001b[0m\u001b[0m\n",
            "\u001b[0;32m/usr/local/lib/python3.6/dist-packages/tensorflow_core/python/client/session.py\u001b[0m in \u001b[0;36m__call__\u001b[0;34m(self, *args, **kwargs)\u001b[0m\n\u001b[1;32m   1470\u001b[0m         ret = tf_session.TF_SessionRunCallable(self._session._session,\n\u001b[1;32m   1471\u001b[0m                                                \u001b[0mself\u001b[0m\u001b[0;34m.\u001b[0m\u001b[0m_handle\u001b[0m\u001b[0;34m,\u001b[0m \u001b[0margs\u001b[0m\u001b[0;34m,\u001b[0m\u001b[0;34m\u001b[0m\u001b[0;34m\u001b[0m\u001b[0m\n\u001b[0;32m-> 1472\u001b[0;31m                                                run_metadata_ptr)\n\u001b[0m\u001b[1;32m   1473\u001b[0m         \u001b[0;32mif\u001b[0m \u001b[0mrun_metadata\u001b[0m\u001b[0;34m:\u001b[0m\u001b[0;34m\u001b[0m\u001b[0;34m\u001b[0m\u001b[0m\n\u001b[1;32m   1474\u001b[0m           \u001b[0mproto_data\u001b[0m \u001b[0;34m=\u001b[0m \u001b[0mtf_session\u001b[0m\u001b[0;34m.\u001b[0m\u001b[0mTF_GetBuffer\u001b[0m\u001b[0;34m(\u001b[0m\u001b[0mrun_metadata_ptr\u001b[0m\u001b[0;34m)\u001b[0m\u001b[0;34m\u001b[0m\u001b[0;34m\u001b[0m\u001b[0m\n",
            "\u001b[0;31mKeyboardInterrupt\u001b[0m: "
          ]
        }
      ]
    },
    {
      "cell_type": "code",
      "metadata": {
        "id": "YgccXEmzYlCo",
        "colab_type": "code",
        "colab": {}
      },
      "source": [
        "matfig = plt.figure(figsize=(20,5))\n",
        "\n",
        "im = plt.matshow(np.reshape(two_mora_ents, (3,4)), cmap=\"viridis_r\", label=\"Cross Entropy\", fignum=matfig.number, vmin=1.6, vmax=3.6)\n",
        "# good colors - winter_r , viridis_r\n",
        "\n",
        "ax = plt.gca()\n",
        "\n",
        "cbar = ax.figure.colorbar(im, ax=ax)\n",
        "cbar.ax.set_ylabel(\"Cross-Entropy\", rotation=-90, va=\"bottom\", fontsize=16)\n",
        "\n",
        "#plt.imshow(-np.reshape(means, (5,4)))\n",
        "\n",
        "plt.yticks([0, 1, 2], [\"All voiceless\", \"Voiced: 1 mora\", \"Voiced: 2 morae\"], fontsize=16, rotation=0)\n",
        "plt.xticks([0, 1, 2, 3], [\"G voiced\", \"G voiceless\", \"Sing voiced\", \"Sing voiceless\"], fontsize=16, rotation=45)\n",
        "\n",
        "plt.show()"
      ],
      "execution_count": 0,
      "outputs": []
    },
    {
      "cell_type": "code",
      "metadata": {
        "id": "-8xWxdFMbreX",
        "colab_type": "code",
        "colab": {}
      },
      "source": [
        ""
      ],
      "execution_count": 0,
      "outputs": []
    }
  ]
}